{
 "cells": [
  {
   "cell_type": "code",
   "id": "initial_id",
   "metadata": {
    "collapsed": true,
    "ExecuteTime": {
     "end_time": "2024-10-07T08:07:41.548690Z",
     "start_time": "2024-10-07T08:06:41.349663Z"
    }
   },
   "source": [
    "%load_ext autoreload\n",
    "%autoreload 2\n",
    "%env CUDA_VISIBLE_DEVICES=1\n",
    "import matplotlib.pyplot as plt\n",
    "from persim import plot_diagrams\n",
    "from utils.utils import compute_ph, get_path\n",
    "from utils.pd_utils import get_persistent_feature_id\n",
    "from utils.fig_utils import plot_edges_on_scatter\n",
    "from utils.dist_utils import get_dist\n",
    "from utils.toydata_utils import get_toy_data\n",
    "from vis_utils.plot import plot_scatter\n",
    "import os\n",
    "from matplotlib.patches import Circle, Polygon\n",
    "import numpy as np"
   ],
   "outputs": [
    {
     "name": "stdout",
     "output_type": "stream",
     "text": [
      "env: CUDA_VISIBLE_DEVICES=1\n"
     ]
    }
   ],
   "execution_count": 1
  },
  {
   "cell_type": "code",
   "source": [
    "style_file = \"utils.style\"\n",
    "plt.style.use(style_file)"
   ],
   "metadata": {
    "collapsed": false,
    "ExecuteTime": {
     "end_time": "2024-10-07T08:07:46.952243Z",
     "start_time": "2024-10-07T08:07:46.889950Z"
    }
   },
   "id": "9784cdef92c0071c",
   "outputs": [],
   "execution_count": 2
  },
  {
   "cell_type": "code",
   "source": [
    "root_path = get_path(\"data\")\n",
    "fig_path = os.path.join(root_path, \"figures\")"
   ],
   "metadata": {
    "collapsed": false,
    "ExecuteTime": {
     "end_time": "2024-10-07T08:07:47.418140Z",
     "start_time": "2024-10-07T08:07:47.357914Z"
    }
   },
   "id": "137b07a451d2a5d5",
   "outputs": [],
   "execution_count": 3
  },
  {
   "cell_type": "markdown",
   "source": [
    "# PH fig"
   ],
   "metadata": {
    "collapsed": false
   },
   "id": "2d2a415d2f5cde7b"
  },
  {
   "cell_type": "code",
   "source": [
    "# get data\n",
    "sigma = 0.2 #0.25\n",
    "seed = 1 #3\n",
    "n = 9 #25\n",
    "d = 2\n",
    "data = get_toy_data(dataset=\"toy_circle\", n=n, d=d, seed=seed, gaussian={\"sigma\":sigma})\n",
    "\n",
    "data[-2] = [1.3, 0.1]\n",
    "data[0] = [1.5, -0.5]\n",
    "data = np.concatenate([data, np.array([[0.9, 0.1]])], axis=0)"
   ],
   "metadata": {
    "collapsed": false,
    "ExecuteTime": {
     "end_time": "2024-10-07T08:07:48.493673Z",
     "start_time": "2024-10-07T08:07:48.443998Z"
    }
   },
   "id": "a5b6641d33d0464d",
   "outputs": [],
   "execution_count": 4
  },
  {
   "cell_type": "code",
   "source": [
    "# compute / load PH result\n",
    "#file_name =f\"toy_circle_{n}_d_{d}_ortho_gauss_sigma_{sigma}_seed_{seed}_euclidean\"\n",
    "file_name = \"ph_illustration\"\n",
    "dataset = \"toy_circle\"\n",
    "res = compute_ph(dist=get_dist(data, distance=\"euclidean\"),\n",
    "                 file_name=file_name,\n",
    "                 root_dir=root_path,\n",
    "                 dataset=\n",
    "                 dataset, \n",
    "                 dim=1,\n",
    "                 delete_dists=True,\n",
    "                 verbose=True,\n",
    "                 force_recompute=True)\n"
   ],
   "metadata": {
    "collapsed": false,
    "ExecuteTime": {
     "end_time": "2024-10-07T08:16:58.567978Z",
     "start_time": "2024-10-07T08:16:48.567249Z"
    }
   },
   "id": "db4711e42a298385",
   "outputs": [
    {
     "name": "stdout",
     "output_type": "stream",
     "text": [
      "Writing dists for ph_illustration\n",
      "Running Ripser for ph_illustration\n",
      "Deleting dists for ph_illustration\n",
      "\n",
      "\n"
     ]
    },
    {
     "name": "stderr",
     "output_type": "stream",
     "text": [
      "\u001B[K"
     ]
    }
   ],
   "execution_count": 7
  },
  {
   "cell_type": "code",
   "source": [
    "# get index of most persistent feature\n",
    "ind1 = get_persistent_feature_id(res, m=1, dim=1)\n",
    "ind2 = get_persistent_feature_id(res, m=2, dim=1)"
   ],
   "metadata": {
    "collapsed": false,
    "ExecuteTime": {
     "end_time": "2024-10-07T08:17:01.487848Z",
     "start_time": "2024-10-07T08:17:01.146557Z"
    }
   },
   "id": "43ebfb6836f71a97",
   "outputs": [],
   "execution_count": 8
  },
  {
   "cell_type": "code",
   "source": [
    "# birth / death times of most and second most peristent feature\n",
    "birth1, death1 = res[\"dgms\"][1][ind1]\n",
    "birth2, death2 = res[\"dgms\"][1][ind2]"
   ],
   "metadata": {
    "collapsed": false,
    "ExecuteTime": {
     "end_time": "2024-10-07T08:17:02.460284Z",
     "start_time": "2024-10-07T08:17:02.408039Z"
    }
   },
   "id": "28abd6528bcae58c",
   "outputs": [],
   "execution_count": 9
  },
  {
   "cell_type": "code",
   "source": [
    "# plot figure\n",
    "plt.rcParams['text.usetex'] = False\n",
    "\n",
    "fig, ax = plt.subplots(ncols=4, figsize=(3.25, 1.2), width_ratios=[1, 1, 1, 1.1])\n",
    "\n",
    "radii = [birth2, birth1, death1]\n",
    "times = [r\"$\\tau_1$\", r\"$\\tau_2$\", r\"$\\tau_3$\"]\n",
    "\n",
    "for i, radius in enumerate(radii):\n",
    "    # plot points\n",
    "    plot_scatter(x=data, ax=ax[i], s=10, y=\"k\", scalebar=False, alpha=1, zorder=6)\n",
    "    \n",
    "    # plot discs around points\n",
    "    for pt in data:\n",
    "        disc = Circle(pt, radius=radius / 2, facecolor='k', alpha=0.1, clip_on=False, edgecolor=\"none\")  # (x, y), radius, color, and alpha\n",
    "        ax[i].add_patch(disc)\n",
    "        \n",
    "    # print all existing edges\n",
    "    dist = get_dist(data, distance=\"euclidean\")\n",
    "    mask = dist < radius\n",
    "    mask_new = np.isclose(dist, radius)\n",
    "    \n",
    "    mask[mask_new] = False\n",
    "    mask = np.triu(mask, k=1)\n",
    "    mask_new = np.triu(mask_new, k=1)\n",
    "    \n",
    "    xx, yy = np.meshgrid(np.arange(len(data)), np.arange(len(data)))\n",
    "    coords = np.stack([xx, yy], axis=-1)\n",
    "    edges = coords[mask]\n",
    "    \n",
    "    plot_edges_on_scatter(ax=ax[i], edge_idx=edges, x=data, color=\"k\",linewidth=0.5)\n",
    "    plot_edges_on_scatter(ax=ax[i], edge_idx=coords[mask_new], x=data, color=\"k\",linewidth=0.5, linestyle=(0, (1,3)))\n",
    "    \n",
    "   \n",
    "    # plot triangles \n",
    "    for edge in edges:\n",
    "        for pt_id in range(len(data)):\n",
    "            if pt_id == edge[0] or pt_id == edge[1]:\n",
    "                continue\n",
    "            pt = data[pt_id]\n",
    "            triangle = np.array([pt, data[edge[0]], data[edge[1]]])\n",
    "            if np.all((get_dist(triangle, distance=\"euclidean\") < radius * 1.0001)) :\n",
    "                # Create a polygon representing the triangle\n",
    "                triangle = Polygon(triangle, closed=True, edgecolor='none', facecolor='lightblue', alpha=1.0)\n",
    "                \n",
    "                # Add the triangle to the axis\n",
    "                ax[i].add_patch(triangle)\n",
    "        \n",
    "    # filtration times\n",
    "    ax[i].text(0.5, 0.05, times[i],\n",
    "        horizontalalignment='center',\n",
    "        verticalalignment='center',\n",
    "        transform=ax[i].transAxes)\n",
    "                \n",
    "# plot persistence diagram\n",
    "plot_diagrams(res[\"dgms\"], ax=ax[-1], plot_only=[1], color=\"k\", colormap=style_file)\n",
    "ax[-1].set_yticks([death1])\n",
    "ax[-1].set_yticklabels([r\"$\\tau_3$\"])\n",
    "ax[-1].set_ylabel(\"Death\", labelpad=-5)\n",
    "ax[-1].set_xticks([birth2, birth1])\n",
    "ax[-1].set_xticklabels([r\"$\\tau_1$\", r\"$\\tau_2$\"])\n",
    "ax[-1].legend().set_visible(False)\n",
    "\n",
    "# plot dotted lines in persistence diagram\n",
    "ax[-1].plot([0, birth1], [death1, death1], zorder=-1, c=\"k\", linestyle=\"dotted\")\n",
    "ax[-1].plot([birth1, birth1], [0, death1], zorder=-1, c=\"k\", linestyle=\"dotted\")\n",
    "ax[-1].plot([birth2, birth2], [0, death2], zorder=-1, c=\"k\", linestyle=\"dotted\")\n",
    "\n",
    "\n",
    "mid = (birth1 + death1) / 2\n",
    "ax[-1].plot([birth1, mid], [death1, mid], zorder=-1, c=\"g\")\n",
    "\n",
    "mid2 = (birth2 + death2) / 2\n",
    "ax[-1].plot([birth2, mid2], [death2, mid2], zorder=-1, c=\"r\")\n",
    "\n",
    "\n",
    "# plot detection score formula\n",
    "ax[-1].text(1.15, 1.45, \"$p_1$\",\n",
    "            color=\"g\",\n",
    "        horizontalalignment='center',\n",
    "        verticalalignment='center')\n",
    "ax[-1].text(0.66, 0.85, \"$p_2$\",\n",
    "            color=\"r\",\n",
    "        horizontalalignment='center',\n",
    "        verticalalignment='center')\n",
    "\n",
    "left = 0.55\n",
    "bottom = 0.8\n",
    "ax[-1].text(left +0.75, bottom, 'Score =',\n",
    "        horizontalalignment='center',\n",
    "        verticalalignment='center')\n",
    "\n",
    "left = left + 0.35\n",
    "ax[-1].text(left +0.85, bottom + 0.1, '$p_1$',\n",
    "            color=\"g\",\n",
    "        horizontalalignment='center',\n",
    "        verticalalignment='center')\n",
    "ax[-1].text(left +0.99, bottom + 0.1, '$-$',\n",
    "        horizontalalignment='center',\n",
    "        verticalalignment='center')\n",
    "\n",
    "ax[-1].text(left +1.14, bottom + 0.1, '$p_2$',\n",
    "            color=\"r\",\n",
    "        horizontalalignment='center',\n",
    "        verticalalignment='center')\n",
    "\n",
    "ax[-1].text(left +0.98,  bottom + 0.08, '______',\n",
    "            color=\"k\",\n",
    "        horizontalalignment='center',\n",
    "        verticalalignment='center')\n",
    "\n",
    "ax[-1].text(left +0.98, bottom - 0.08, '$p_1$',\n",
    "            color=\"g\",\n",
    "        horizontalalignment='center',\n",
    "        verticalalignment='center')\n",
    "\n",
    "ax[0].text(\n",
    "        s=\"a\",\n",
    "        x=-0.1,\n",
    "        y=0.8,\n",
    "        transform=ax[0].transAxes,\n",
    "        fontweight=\"bold\",\n",
    "    )\n",
    "\n",
    "ax[-1].set_title(\"b\", fontweight=\"bold\", loc=\"left\", ha=\"right\")\n",
    "\n",
    "fig.savefig(os.path.join(fig_path, \"fig_ph.pdf\"))"
   ],
   "metadata": {
    "collapsed": false,
    "ExecuteTime": {
     "end_time": "2024-10-07T08:18:35.415082Z",
     "start_time": "2024-10-07T08:18:30.631401Z"
    }
   },
   "id": "25a68e24fa7d9890",
   "outputs": [
    {
     "data": {
      "text/plain": [
       "<Figure size 650x240 with 4 Axes>"
      ],
      "image/png": "[encoded data removed]"
     },
     "metadata": {},
     "output_type": "display_data"
    }
   ],
   "execution_count": 15
  },
  {
   "cell_type": "code",
   "source": "# test wide gap score",
   "metadata": {
    "collapsed": false,
    "ExecuteTime": {
     "end_time": "2024-08-01T09:21:42.946578Z",
     "start_time": "2024-08-01T09:21:42.903267Z"
    }
   },
   "id": "959e3507b7b9c7da",
   "outputs": [],
   "execution_count": 9
  },
  {
   "metadata": {
    "ExecuteTime": {
     "end_time": "2024-08-01T09:23:25.344519Z",
     "start_time": "2024-08-01T09:23:25.198791Z"
    }
   },
   "cell_type": "code",
   "source": "from utils.pd_utils import wide_gap_score, get_features_above_gap",
   "id": "58276265e8961aa0",
   "outputs": [],
   "execution_count": 17
  },
  {
   "metadata": {
    "ExecuteTime": {
     "end_time": "2024-08-01T09:22:07.029724Z",
     "start_time": "2024-08-01T09:22:06.982908Z"
    }
   },
   "cell_type": "code",
   "source": "res[\"dgms\"][1]",
   "id": "bc1b440c9d29a13",
   "outputs": [
    {
     "data": {
      "text/plain": [
       "array([[0.632456, 0.743866],\n",
       "       [0.975036, 1.4638  ]])"
      ]
     },
     "execution_count": 13,
     "metadata": {},
     "output_type": "execute_result"
    }
   ],
   "execution_count": 13
  },
  {
   "metadata": {
    "ExecuteTime": {
     "end_time": "2024-08-01T09:30:19.720524Z",
     "start_time": "2024-08-01T09:30:19.660452Z"
    }
   },
   "cell_type": "code",
   "source": "get_features_above_gap(res[\"dgms\"][1], n_gap=2)",
   "id": "5a0926fda02b1386",
   "outputs": [
    {
     "name": "stdout",
     "output_type": "stream",
     "text": [
      "n_gap is larger than the number of features in the diagram. Returning the full diagram\n"
     ]
    },
    {
     "data": {
      "text/plain": [
       "array([[0.632456, 0.743866],\n",
       "       [0.975036, 1.4638  ]])"
      ]
     },
     "execution_count": 31,
     "metadata": {},
     "output_type": "execute_result"
    }
   ],
   "execution_count": 31
  },
  {
   "metadata": {
    "ExecuteTime": {
     "end_time": "2024-08-01T09:36:44.764457Z",
     "start_time": "2024-08-01T09:36:44.682734Z"
    }
   },
   "cell_type": "code",
   "source": "wide_gap_score(res[\"dgms\"][1], n_gap=0, n_features=5, mode=\"classification\")",
   "id": "59dda8449fc63491",
   "outputs": [
    {
     "data": {
      "text/plain": [
       "0"
      ]
     },
     "execution_count": 43,
     "metadata": {},
     "output_type": "execute_result"
    }
   ],
   "execution_count": 43
  },
  {
   "metadata": {},
   "cell_type": "code",
   "outputs": [],
   "execution_count": null,
   "source": "",
   "id": "ce2cd222984012a"
  }
 ],
 "metadata": {
  "kernelspec": {
   "name": "conda-env-ph-py",
   "language": "python",
   "display_name": "Python [conda env:ph]"
  },
  "language_info": {
   "codemirror_mode": {
    "name": "ipython",
    "version": 2
   },
   "file_extension": ".py",
   "mimetype": "text/x-python",
   "name": "python",
   "nbconvert_exporter": "python",
   "pygments_lexer": "ipython2",
   "version": "2.7.6"
  }
 },
 "nbformat": 4,
 "nbformat_minor": 5
}
