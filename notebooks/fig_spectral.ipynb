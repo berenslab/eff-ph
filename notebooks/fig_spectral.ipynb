{
 "cells": [
  {
   "cell_type": "code",
   "execution_count": null,
   "outputs": [],
   "source": [
    "%load_ext autoreload\n",
    "%autoreload 2\n",
    "%env CUDA_VISIBLE_DEVICES=1\n",
    "import matplotlib.pyplot as plt\n",
    "from utils.utils import get_path,lap_eig_decay, diffusion_decay, eff_res_decay, eff_res_corr_decay\n",
    "from utils.toydata_utils import get_toy_data\n",
    "from utils.fig_utils import dist_to_color\n",
    "from utils.dist_utils import compute_laplacian, get_sknn\n",
    "import os\n",
    "import matplotlib\n",
    "import numpy as np\n",
    "import scipy.sparse.linalg\n"
   ],
   "metadata": {
    "collapsed": false
   },
   "id": "6a8938af0e720c79"
  },
  {
   "cell_type": "code",
   "execution_count": 2,
   "outputs": [],
   "source": [
    "style_file = \"utils.style\"\n",
    "plt.style.use(style_file)\n",
    "root_path = get_path(\"data\")\n",
    "fig_path = os.path.join(root_path, \"figures\")"
   ],
   "metadata": {
    "collapsed": false,
    "ExecuteTime": {
     "end_time": "2024-01-29T14:50:06.727249757Z",
     "start_time": "2024-01-29T14:50:06.695791626Z"
    }
   },
   "id": "49f9de0ef0a5a776"
  },
  {
   "cell_type": "markdown",
   "source": [
    "# Eigenvector decay fig"
   ],
   "metadata": {
    "collapsed": false
   },
   "id": "1cd0336a718af695"
  },
  {
   "cell_type": "code",
   "execution_count": 3,
   "outputs": [],
   "source": [
    "# get data\n",
    "seed = 0\n",
    "sigmas = [0.0, 0.1, 0.25]\n",
    "n = 1000\n",
    "d = 50\n",
    "dataset = \"toy_circle\"\n",
    "\n",
    "data = np.array([get_toy_data(dataset = dataset, n= n, d=d, seed=seed, **{\"gaussian\":{\"sigma\": sigma}}) for sigma in sigmas])"
   ],
   "metadata": {
    "collapsed": false,
    "ExecuteTime": {
     "end_time": "2024-01-29T14:50:07.841193905Z",
     "start_time": "2024-01-29T14:50:07.788417822Z"
    }
   },
   "id": "c146f95193c189b9"
  },
  {
   "cell_type": "code",
   "execution_count": 4,
   "outputs": [
    {
     "name": "stdout",
     "output_type": "stream",
     "text": [
      "Done with norm sym and sigma 0.0\n",
      "Done with norm sym and sigma 0.1\n",
      "Done with norm sym and sigma 0.25\n"
     ]
    }
   ],
   "source": [
    "# get eigenvalues and eigenvectors\n",
    "k = 15\n",
    "n_evecs = 999\n",
    "norms = [\"sym\"]  # only use symmetric normalization for the plot\n",
    "\n",
    "evals = {}\n",
    "evecs = {}\n",
    "for norm in norms:\n",
    "    evals_norm = {}\n",
    "    evecs_norm = {}\n",
    "    for i, data_sig in enumerate(data):\n",
    "        sknn_coo = get_sknn(data_sig, k=k)\n",
    "\n",
    "        L = compute_laplacian(sknn_coo, normalization=norm)\n",
    "\n",
    "        # compute eigenvectors, following the setting in the UMAP code base\n",
    "        eigenvalues, eigenvectors = scipy.sparse.linalg.eigsh(\n",
    "                        L,\n",
    "                        n_evecs,\n",
    "                        which=\"SM\",\n",
    "                        tol=1e-4,\n",
    "                        v0=np.ones(L.shape[0]),\n",
    "                        maxiter=L.shape[0] * 5,\n",
    "                    )\n",
    "        evals_norm[sigmas[i]] = eigenvalues\n",
    "        evecs_norm[sigmas[i]] = eigenvectors\n",
    "        print(f\"Done with norm {norm} and sigma {sigmas[i]}\")\n",
    "    evals[norm] = evals_norm\n",
    "    evecs[norm] = evecs_norm"
   ],
   "metadata": {
    "collapsed": false,
    "ExecuteTime": {
     "end_time": "2024-01-29T14:50:30.831387096Z",
     "start_time": "2024-01-29T14:50:08.350327306Z"
    }
   },
   "id": "240cf4b56c1b8944"
  },
  {
   "cell_type": "code",
   "execution_count": null,
   "outputs": [],
   "source": [
    "# plot figure\n",
    "fig, ax = plt.subplots(ncols=5, width_ratios=(1.2, 0.8,1,1,1), figsize=(5.5, 1.4))\n",
    "\n",
    "\n",
    "letters = \"abcde\"\n",
    "\n",
    "# panel a with eigenvalues for different noise levels\n",
    "linestyles = [\"solid\", \"dashed\", \"dotted\"]\n",
    "for j, sigma in enumerate(sigmas):\n",
    "    ax[0].plot(np.arange(1, 999), evals[\"sym\"][sigma][1:], label=f\"$\\sigma = {sigma}$\", c=\"k\", linestyle=linestyles[j])\n",
    "ax[0].legend(frameon=False, loc=(0.4, 0.01), handlelength=1.0)\n",
    "ax[0].set_xscale(\"symlog\")\n",
    "ax[0].set_yscale(\"log\")\n",
    "ax[0].set_xlim(1, 1000)\n",
    "ax[0].set_ylim(None, 1.4)\n",
    "ax[0].spines['left'].set_position(('data', 1))\n",
    "ax[0].spines['bottom'].set_position(('data', 0.0002))\n",
    "\n",
    "ax[0].set_xticks([1, 10, 100, 1000])\n",
    "ax[0].set_xticklabels([1, 10, 100, 1000])\n",
    "\n",
    "ax[0].xaxis.set_minor_locator(matplotlib.ticker.LogLocator(base=10.0, subs=(0.1, 0.2, 0.3, 0.4, 0.5,  0.6, 0.7, 0.8, 0.9)))\n",
    "ax[0].set_title(\"Eigenvalue spectra\")\n",
    "ax[0].set_title(\n",
    "    letters[0],\n",
    "    ha=\"right\",\n",
    "    loc=\"left\",\n",
    "    fontweight=\"bold\",\n",
    ")\n",
    "ax[0].set_ylabel(\"Eigenvalue\")\n",
    "ax[0].set_xlabel(\"Eigenvalue index\")\n",
    "\n",
    "\n",
    "cmap = matplotlib.cm.get_cmap('tab20')\n",
    "\n",
    "# panel b with the eigenvector decay functions\n",
    "n_xvals = 100\n",
    "possible_evals = np.arange(1, 1.25* n_xvals) / n_xvals\n",
    "ax[1].plot(possible_evals, eff_res_corr_decay(possible_evals), label=\"eff res corr\", c=dist_to_color[\"eff_res\"], zorder=10, clip_on=False)\n",
    "ax[1].plot(possible_evals, eff_res_decay(possible_evals), label=\"eff res\", c=dist_to_color[\"eff_res\"], linestyle=\"dashdot\", zorder=10, clip_on=False)\n",
    "ax[1].plot(possible_evals, diffusion_decay(possible_evals, t=8), label=\"Diffusion t=8\", c=dist_to_color[\"diffusion\"], zorder=10, clip_on=False)\n",
    "ax[1].plot(possible_evals, diffusion_decay(possible_evals, t=64), label=\"Diffusion t=64\", c=dist_to_color[\"diffusion\"], linestyle=\"dashdot\", zorder=10, clip_on=False)\n",
    "\n",
    "ax[1].set_xticks([0, 0.5, 1.0])\n",
    "ax[1].set_ylim(0.001, 1)\n",
    "ax[1].set_xlim(0, 1.25)\n",
    "\n",
    "ax[1].spines['left'].set_position(('data', 0))\n",
    "ax[1].spines['bottom'].set_position(('data', 0))\n",
    "\n",
    "ax[1].set_xlabel(\"Eigenvalue\")\n",
    "ax[1].set_ylabel(\"Relative decay\")\n",
    "ax[1].set_title(\"Decay\")\n",
    "ax[1].set_title(\n",
    "    letters[1],\n",
    "    ha=\"right\",\n",
    "    loc=\"left\",\n",
    "    fontweight=\"bold\",\n",
    ")\n",
    "\n",
    "# remaining panels with the decay of each eigenvector, one for each noise level\n",
    "for i, sigma in enumerate([0.0, 0.1, 0.25]):\n",
    "    i = i+2\n",
    "    ax[i].plot(np.arange(1, 999), eff_res_corr_decay(evals[\"sym\"][sigma][1:]), label=\"Eff. resistance\", c=dist_to_color[\"eff_res\"], clip_on=False, zorder =5)\n",
    "    ax[i].plot(np.arange(1, 999), eff_res_decay(evals[\"sym\"][sigma][1:]), label=\"Eff. res. naive\", c=dist_to_color[\"eff_res\"], clip_on=False, linestyle=\"dashdot\", zorder =5)\n",
    "    ax[i].plot(np.arange(1, 999), diffusion_decay(evals[\"sym\"][sigma][1:], t=8), label=\"Diffusion $t = 8$\", c=dist_to_color[\"diffusion\"], clip_on=False, zorder =5)\n",
    "    ax[i].plot(np.arange(1, 999), diffusion_decay(evals[\"sym\"][sigma][1:], t=64), label=\"Diffusion $t = 64$\", c=dist_to_color[\"diffusion\"], clip_on=False, linestyle=\"dashdot\", zorder =5)\n",
    "    ax[i].plot(np.arange(1, 999), lap_eig_decay(evals[\"sym\"][sigma][1:], n_evecs=2), label=\"Lap. Eig. $D=2$\", c=dist_to_color[\"spectral\"], clip_on=False, zorder =5)\n",
    "    \n",
    "    ax[i].set_xscale(\"log\")\n",
    "    ax[i].set_xscale(\"log\")\n",
    "    ax[i].set_ylim(0, 1)\n",
    "    ax[i].set_xlim(1, 1000)\n",
    "    \n",
    "    ax[i].spines['left'].set_position(('data', 1))\n",
    "    ax[i].spines['bottom'].set_position(('data', 0))\n",
    "\n",
    "    if i != 0:\n",
    "        ax[i].set_yticklabels([])\n",
    "    ax[i].set_xlabel(\"Eigenvector index\")\n",
    "    ax[i].set_xticks([1, 10, 100, 1000])    \n",
    "    ax[i].set_xticklabels([1, 10, 100, 1000], zorder=6)   \n",
    "    if i == 4:\n",
    "        ax[i].legend(frameon=False, loc=(0.4,0.35))\n",
    "    ax[i].set_title(f\"$\\sigma = {sigma}$\")\n",
    "    ax[i].set_title(\n",
    "    letters[i],\n",
    "    ha=\"right\",\n",
    "    loc=\"left\",\n",
    "    fontweight=\"bold\",\n",
    ")\n",
    "fig.savefig(os.path.join(fig_path, \"fig_eig_decay_log.pdf\"))"
   ],
   "metadata": {
    "collapsed": false
   },
   "id": "a95d557d19607b66"
  },
  {
   "cell_type": "markdown",
   "source": [
    "# Check stability of effective resistance"
   ],
   "metadata": {
    "collapsed": false
   },
   "id": "468e98fef88c2b65"
  },
  {
   "cell_type": "code",
   "execution_count": 20,
   "outputs": [],
   "source": [
    "from utils.dist_utils import get_dist\n",
    "from utils.io_utils import load_multiple_res"
   ],
   "metadata": {
    "collapsed": false,
    "ExecuteTime": {
     "end_time": "2023-11-22T09:48:54.831946849Z",
     "start_time": "2023-11-22T09:48:54.774135716Z"
    }
   },
   "id": "22c3c6f19c7c4bdc"
  },
  {
   "cell_type": "code",
   "execution_count": 49,
   "outputs": [],
   "source": [
    "# get data\n",
    "seed = 2\n",
    "sigmas = [0.0, 0.25]\n",
    "n = 1000\n",
    "d = 50\n",
    "dataset = \"toy_circle\"\n",
    "distances = {\"euclidean\": {},\n",
    "             \"eff_res\": {\"corrected\": True, \"weighted\": False, \"k\": 100, \"disconnect\": True}}\n",
    "data = {sigma: get_toy_data(dataset = dataset, n= n, d=d, seed=seed, **{\"gaussian\":{\"sigma\": sigma}}) for sigma in sigmas}"
   ],
   "metadata": {
    "collapsed": false,
    "ExecuteTime": {
     "end_time": "2023-11-22T11:11:16.626243004Z",
     "start_time": "2023-11-22T11:11:16.566831093Z"
    }
   },
   "id": "6c1a01f1ad074a23"
  },
  {
   "cell_type": "code",
   "execution_count": 50,
   "outputs": [],
   "source": [
    "dists = {distance: {sigma: get_dist(data[sigma], distance, **distances[distance]) for sigma in sigmas} for distance in distances}"
   ],
   "metadata": {
    "collapsed": false,
    "ExecuteTime": {
     "end_time": "2023-11-22T11:11:17.917662339Z",
     "start_time": "2023-11-22T11:11:17.473177283Z"
    }
   },
   "id": "421a38bf59e84777"
  },
  {
   "cell_type": "code",
   "execution_count": 27,
   "outputs": [
    {
     "name": "stdout",
     "output_type": "stream",
     "text": [
      "Done with toy_circle 50 euclidean n_outliers=0\n",
      "Done with toy_circle 50 eff_res_corrected_True_weighted_False_k_100_disconnect_True n_outliers=0\n"
     ]
    }
   ],
   "source": [
    "all_res = load_multiple_res(datasets=\"toy_circle\", distances=distances, root_path=root_path, n=n, embd_dims=d, sigmas=sigmas, seeds=[0], n_threads=10)"
   ],
   "metadata": {
    "collapsed": false,
    "ExecuteTime": {
     "end_time": "2023-11-22T09:53:22.258655958Z",
     "start_time": "2023-11-22T09:53:21.113802647Z"
    }
   },
   "id": "28fe03015976bc60"
  },
  {
   "cell_type": "code",
   "execution_count": 51,
   "outputs": [
    {
     "name": "stdout",
     "output_type": "stream",
     "text": [
      "2.3902311696976866\n"
     ]
    }
   ],
   "source": [
    "max_displacement = np.sqrt(((data[0.0] - data[0.25])**2).sum(-1)).max()\n",
    "print(max_displacement)"
   ],
   "metadata": {
    "collapsed": false,
    "ExecuteTime": {
     "end_time": "2023-11-22T11:11:19.002026984Z",
     "start_time": "2023-11-22T11:11:18.948148784Z"
    }
   },
   "id": "f36289a438f85291"
  },
  {
   "cell_type": "code",
   "execution_count": 52,
   "outputs": [
    {
     "name": "stdout",
     "output_type": "stream",
     "text": [
      "1.9999975276571955\n",
      "4.845392455611238\n"
     ]
    }
   ],
   "source": [
    "for sigma in sigmas:\n",
    "    print(dists[\"euclidean\"][sigma].max())"
   ],
   "metadata": {
    "collapsed": false,
    "ExecuteTime": {
     "end_time": "2023-11-22T11:11:19.621943607Z",
     "start_time": "2023-11-22T11:11:19.567050673Z"
    }
   },
   "id": "11dc043568abd3ff"
  },
  {
   "cell_type": "code",
   "execution_count": 42,
   "outputs": [
    {
     "name": "stdout",
     "output_type": "stream",
     "text": [
      "0.0031999675089581917\n",
      "0.00019062243801273472\n"
     ]
    }
   ],
   "source": [
    "for sigma in sigmas:\n",
    "    print(dists[\"eff_res\"][sigma].mean())"
   ],
   "metadata": {
    "collapsed": false,
    "ExecuteTime": {
     "end_time": "2023-11-22T10:12:34.133907238Z",
     "start_time": "2023-11-22T10:12:34.083307963Z"
    }
   },
   "id": "1d2256a1b903fc3d"
  },
  {
   "cell_type": "code",
   "execution_count": 41,
   "outputs": [
    {
     "name": "stdout",
     "output_type": "stream",
     "text": [
      "Distance euclidean sigma 0.0 max death 1.73205 min birth 0.00628946\n",
      "Distance euclidean sigma 0.25 max death 2.42831 min birth 1.74165\n",
      "Distance eff_res sigma 0.0 max death 0.00446532 min birth 4.0784e-06\n",
      "Distance eff_res sigma 0.25 max death 0.00010771 min birth 2.18406e-05\n"
     ]
    }
   ],
   "source": [
    "for distance in distances:\n",
    "    for sigma in sigmas:\n",
    "        full_dist = list(all_res[distance].keys())[0]\n",
    "        dgms = all_res[distance][full_dist][sigma][\"dgms\"][1]\n",
    "        print(f\"Distance {distance} sigma {sigma} max death {dgms[:,1].max()} min birth {dgms[:, 0].min()}\")"
   ],
   "metadata": {
    "collapsed": false,
    "ExecuteTime": {
     "end_time": "2023-11-22T10:07:45.509476405Z",
     "start_time": "2023-11-22T10:07:45.463725346Z"
    }
   },
   "id": "67141366ff0be01c"
  },
  {
   "cell_type": "markdown",
   "source": [
    "# Eigenvectors of the blob"
   ],
   "metadata": {
    "collapsed": false
   },
   "id": "d28426ec4596a709"
  },
  {
   "cell_type": "code",
   "execution_count": 69,
   "outputs": [],
   "source": [
    "from utils.toydata_utils import get_toy_data\n",
    "import scipy.sparse.linalg\n",
    "from utils.dist_utils import  get_sknn, compute_laplacian\n",
    "from utils.utils import get_path,lap_eig_decay, diffusion_decay, eff_res_decay, eff_res_corr_decay\n"
   ],
   "metadata": {
    "collapsed": false,
    "ExecuteTime": {
     "end_time": "2023-11-23T09:16:44.123977370Z",
     "start_time": "2023-11-23T09:16:44.079991229Z"
    }
   },
   "id": "105ad3722a49102c"
  },
  {
   "cell_type": "code",
   "execution_count": 58,
   "outputs": [],
   "source": [
    "k = 100\n",
    "data = get_toy_data(dataset=\"toy_blob\", n=1000, d=50, seed=0, **{\"gaussian\":{\"sigma\": 0.0125}})"
   ],
   "metadata": {
    "collapsed": false,
    "ExecuteTime": {
     "end_time": "2023-11-23T09:03:37.200908714Z",
     "start_time": "2023-11-23T09:03:37.111788133Z"
    }
   },
   "id": "7c159b860355b3cc"
  },
  {
   "cell_type": "code",
   "execution_count": 59,
   "outputs": [],
   "source": [
    "sknn_coo = get_sknn(data, k=k)\n",
    "\n",
    "L = compute_laplacian(sknn_coo, normalization=\"sym\")\n",
    "n_evecs = 999\n",
    "# compute eigenvectors, following the setting in the UMAP code base\n",
    "eigenvalues, eigenvectors = scipy.sparse.linalg.eigsh(\n",
    "                L,\n",
    "                n_evecs,\n",
    "                which=\"SM\",\n",
    "                tol=1e-4,\n",
    "                v0=np.ones(L.shape[0]),\n",
    "                maxiter=L.shape[0] * 5,\n",
    "            )\n"
   ],
   "metadata": {
    "collapsed": false,
    "ExecuteTime": {
     "end_time": "2023-11-23T09:04:24.734981638Z",
     "start_time": "2023-11-23T09:04:23.172927448Z"
    }
   },
   "id": "e769eb422656e680"
  },
  {
   "cell_type": "code",
   "execution_count": 68,
   "outputs": [
    {
     "data": {
      "text/plain": "<matplotlib.lines.Line2D at 0x7fda11b38df0>"
     },
     "execution_count": 68,
     "metadata": {},
     "output_type": "execute_result"
    },
    {
     "data": {
      "text/plain": "<Figure size 1100x400 with 1 Axes>",
      "image/png": "[encoded data removed]"
     },
     "metadata": {},
     "output_type": "display_data"
    }
   ],
   "source": [
    "fig, ax = plt.subplots(figsize=(5.5, 2))\n",
    "ax.plot(eigenvalues[1:])\n",
    "ax.set_yscale(\"log\")\n",
    "ax.axvline(50, c=\"k\", linestyle=\"dashed\")"
   ],
   "metadata": {
    "collapsed": false,
    "ExecuteTime": {
     "end_time": "2023-11-23T09:06:47.280206060Z",
     "start_time": "2023-11-23T09:06:46.809627585Z"
    }
   },
   "id": "2d151468f72c6b58"
  },
  {
   "cell_type": "code",
   "execution_count": 72,
   "outputs": [],
   "source": [
    "eff_res = eff_res_corr_decay(eigenvalues[1:])\n",
    "diffusion = diffusion_decay(eigenvalues[1:], t=8)"
   ],
   "metadata": {
    "collapsed": false,
    "ExecuteTime": {
     "end_time": "2023-11-23T09:18:02.796472334Z",
     "start_time": "2023-11-23T09:18:02.745723210Z"
    }
   },
   "id": "75cab14b900e9159"
  },
  {
   "cell_type": "code",
   "execution_count": 74,
   "outputs": [
    {
     "data": {
      "text/plain": "<matplotlib.lines.Line2D at 0x7fda11666230>"
     },
     "execution_count": 74,
     "metadata": {},
     "output_type": "execute_result"
    },
    {
     "data": {
      "text/plain": "<Figure size 1100x400 with 2 Axes>",
      "image/png": "[encoded data removed]"
     },
     "metadata": {},
     "output_type": "display_data"
    }
   ],
   "source": [
    "fig, ax = plt.subplots(ncols=2, figsize=(5.5, 2))\n",
    "ax[0].plot(eff_res / eff_res.max())\n",
    "ax[0].axvline(50, c=\"k\", linestyle=\"dashed\")\n",
    "ax[1].plot(diffusion / diffusion.max())\n",
    "ax[1].axvline(50, c=\"k\", linestyle=\"dashed\")"
   ],
   "metadata": {
    "collapsed": false,
    "ExecuteTime": {
     "end_time": "2023-11-23T09:18:22.018575842Z",
     "start_time": "2023-11-23T09:18:21.530195862Z"
    }
   },
   "id": "3e3b4514b0032233"
  }
 ],
 "metadata": {
  "kernelspec": {
   "name": "conda-env-ph-py",
   "language": "python",
   "display_name": "Python [conda env:ph]"
  },
  "language_info": {
   "codemirror_mode": {
    "name": "ipython",
    "version": 2
   },
   "file_extension": ".py",
   "mimetype": "text/x-python",
   "name": "python",
   "nbconvert_exporter": "python",
   "pygments_lexer": "ipython2",
   "version": "2.7.6"
  }
 },
 "nbformat": 4,
 "nbformat_minor": 5
}
