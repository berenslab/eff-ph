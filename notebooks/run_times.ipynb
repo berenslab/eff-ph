{
 "cells": [
  {
   "cell_type": "code",
   "execution_count": null,
   "id": "initial_id",
   "metadata": {
    "collapsed": true
   },
   "source": [
    "%load_ext autoreload\n",
    "%autoreload 2\n",
    "%env CUDA_VISIBLE_DEVICES=1\n",
    "from utils.utils import get_path, measure_run_time\n",
    "import os"
   ],
   "outputs": []
  },
  {
   "cell_type": "code",
   "execution_count": 2,
   "source": [
    "root_path = get_path(\"data\")\n",
    "fig_path = os.path.join(root_path, \"figures\")\n",
    "seeds = [0, 1, 2]"
   ],
   "metadata": {
    "collapsed": false,
    "ExecuteTime": {
     "end_time": "2023-10-16T13:57:07.732812630Z",
     "start_time": "2023-10-16T13:57:07.702164727Z"
    }
   },
   "id": "ad17a0efdb0b831c",
   "outputs": []
  },
  {
   "cell_type": "code",
   "execution_count": 3,
   "source": [
    "dist_times, ph_times = measure_run_time(dataset=\"toy_circle\",\n",
    "                                        distance=\"euclidean\",\n",
    "                                        dist_kwargs={},\n",
    "                                        embd_dim=50,\n",
    "                                        n=1000,\n",
    "                                        seeds=seeds,\n",
    "                                        feature_dim=1,\n",
    "                                        root_path=root_path,\n",
    "                                        sigma=0.0,\n",
    "                                        force_recompute=False)\n",
    "print(\"Run time on circle for euclidean distance, 1D features, and n=1000 points\")\n",
    "print(f\"Time for distances: {dist_times.mean()} +/- {dist_times.std()} s\")\n",
    "print(f\"Time for PD       : {ph_times.mean()} +/- {ph_times.std()} s\")"
   ],
   "metadata": {
    "collapsed": false,
    "ExecuteTime": {
     "end_time": "2023-10-16T13:57:07.784320600Z",
     "start_time": "2023-10-16T13:57:07.740776389Z"
    }
   },
   "id": "a0e1b4ecccb07c72",
   "outputs": []
  },
  {
   "cell_type": "code",
   "execution_count": 4,
   "source": [
    "dist_times, ph_times = measure_run_time(dataset=\"toy_circle\",\n",
    "                                        distance=\"eff_res\",\n",
    "                                        dist_kwargs={\"corrected\": True, \"weighted\": False, \"k\": 100, \"disconnect\": True},\n",
    "                                        embd_dim=50,\n",
    "                                        n=1000,\n",
    "                                        seeds=seeds,\n",
    "                                        feature_dim=1,\n",
    "                                        root_path=root_path,\n",
    "                                        sigma=0.0,\n",
    "                                        force_recompute=False)\n",
    "print(\"Run time on circle for effective resistance, 1D features, and n=1000 points\")\n",
    "print(f\"Time for distances: {dist_times.mean()} +/- {dist_times.std()} s\")\n",
    "print(f\"Time for PD       : {ph_times.mean()} +/- {ph_times.std()} s\")"
   ],
   "metadata": {
    "collapsed": false,
    "ExecuteTime": {
     "end_time": "2023-10-16T13:57:07.827348730Z",
     "start_time": "2023-10-16T13:57:07.786918188Z"
    }
   },
   "id": "a27c8f38efa47193",
   "outputs": []
  },
  {
   "cell_type": "code",
   "execution_count": 5,
   "source": [
    "dist_times, ph_times = measure_run_time(dataset=\"toy_circle\",\n",
    "                                        distance=\"euclidean\",\n",
    "                                        dist_kwargs={},\n",
    "                                        embd_dim=50,\n",
    "                                        n=2000,\n",
    "                                        seeds=seeds,\n",
    "                                        feature_dim=1,\n",
    "                                        sigma=0.0,\n",
    "                                        root_path=root_path,\n",
    "                                        force_recompute=False)\n",
    "print(\"Run time on circle for euclidean distance, 1D features, and n=2000 points\")\n",
    "print(f\"Time for distances: {dist_times.mean()} +/- {dist_times.std()} s\")\n",
    "print(f\"Time for PD       : {ph_times.mean()} +/- {ph_times.std()} s\")"
   ],
   "metadata": {
    "collapsed": false,
    "ExecuteTime": {
     "end_time": "2023-10-16T13:57:07.868505809Z",
     "start_time": "2023-10-16T13:57:07.830191320Z"
    }
   },
   "id": "9cd888e5ac9f2083",
   "outputs": []
  },
  {
   "cell_type": "code",
   "execution_count": 6,
   "source": [
    "dist_times, ph_times = measure_run_time(dataset=\"toy_sphere\",\n",
    "                                        distance=\"euclidean\",\n",
    "                                        dist_kwargs={},\n",
    "                                        embd_dim=50,\n",
    "                                        n=1000,\n",
    "                                        seeds=seeds,\n",
    "                                        feature_dim=1,\n",
    "                                        sigma=0.0,\n",
    "                                        root_path=root_path,\n",
    "                                        force_recompute=False)\n",
    "print(\"Run time on sphere for euclidean distance, 1D features, and n=1000 points\")\n",
    "print(f\"Time for distances: {dist_times.mean()} +/- {dist_times.std()} s\")\n",
    "print(f\"Time for PD       : {ph_times.mean()} +/- {ph_times.std()} s\")"
   ],
   "metadata": {
    "collapsed": false,
    "ExecuteTime": {
     "end_time": "2023-10-16T13:57:07.912798711Z",
     "start_time": "2023-10-16T13:57:07.870802170Z"
    }
   },
   "id": "15c942c951d51d45",
   "outputs": []
  },
  {
   "cell_type": "code",
   "execution_count": 7,
   "source": [
    "dist_times, ph_times = measure_run_time(dataset=\"toy_sphere\",\n",
    "                                        distance=\"euclidean\",\n",
    "                                        dist_kwargs={},\n",
    "                                        embd_dim=50,\n",
    "                                        n=1000,\n",
    "                                        seeds=seeds,\n",
    "                                        feature_dim=2,\n",
    "                                        sigma=0.0,\n",
    "                                        root_path=root_path,\n",
    "                                        force_recompute=False)\n",
    "print(\"Run time on sphere for euclidean distance, 2D features, and n=1000 points\")\n",
    "print(f\"Time for distances: {dist_times.mean()} +/- {dist_times.std()} s\")\n",
    "print(f\"Time for PD       : {ph_times.mean()} +/- {ph_times.std()} s\")"
   ],
   "metadata": {
    "collapsed": false,
    "ExecuteTime": {
     "end_time": "2023-10-16T13:57:07.957190154Z",
     "start_time": "2023-10-16T13:57:07.915894690Z"
    }
   },
   "id": "53dc1e7dfcfa895b",
   "outputs": []
  },
  {
   "cell_type": "code",
   "execution_count": 7,
   "source": [],
   "metadata": {
    "collapsed": false,
    "ExecuteTime": {
     "end_time": "2023-10-16T13:57:08.010712681Z",
     "start_time": "2023-10-16T13:57:08.010337052Z"
    }
   },
   "id": "4998dd6be66d9341",
   "outputs": []
  }
 ],
 "metadata": {
  "kernelspec": {
   "name": "conda-env-ph-py",
   "language": "python",
   "display_name": "Python [conda env:ph]"
  },
  "language_info": {
   "codemirror_mode": {
    "name": "ipython",
    "version": 2
   },
   "file_extension": ".py",
   "mimetype": "text/x-python",
   "name": "python",
   "nbconvert_exporter": "python",
   "pygments_lexer": "ipython2",
   "version": "2.7.6"
  }
 },
 "nbformat": 4,
 "nbformat_minor": 5
}
